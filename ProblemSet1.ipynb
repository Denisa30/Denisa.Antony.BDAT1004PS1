{
 "cells": [
  {
   "cell_type": "markdown",
   "id": "8f6d44cb",
   "metadata": {},
   "source": [
    "Question 1 C#\n",
    "\n",
    "What data type is each of the following?\n",
    "\n",
    "5 --> int\n",
    "\n",
    "5.0 --> double\n",
    "\n",
    "5 > 1 --> boolean\n",
    "\n",
    "'5' --> char\n",
    "\n",
    "5 * 2 --> int\n",
    "\n",
    "'5' * 2 --> int\n",
    "\n",
    "'5' + '2' --> int\n",
    "\n",
    "5 / 2 -->int\n",
    "\n",
    "5 % 2 --> int\n",
    "\n",
    "{5, 2, 1} --> list\n",
    "\n",
    "5 == 3 -->boolean\n",
    "\n",
    "Pi (the number) --> double\n",
    "\n"
   ]
  },
  {
   "cell_type": "markdown",
   "id": "36923d13",
   "metadata": {},
   "source": [
    "Question 2 C#\n",
    "\n",
    "Write (and evaluate) C# expressions that answer these questions:\n",
    "\n",
    "a)How many letters are there in 'Supercalifragilisticexpialidocious'?"
   ]
  },
  {
   "cell_type": "code",
   "execution_count": null,
   "id": "988d59e2",
   "metadata": {},
   "outputs": [],
   "source": [
    "using System;\n",
    "\n",
    "namespace Test\n",
    "{\n",
    "    class Program\n",
    "    {\n",
    "        public static void Main()\n",
    "        {\n",
    "\n",
    "            string s = \"Supercalifragilisticexpialidocious\";\n",
    "            Console.WriteLine(\"There are {0} letters in the word Supercalifragilisticexpialidocious\", s.Length);\n",
    "        }\n",
    "\n",
    "       \n",
    "    }\n",
    "\n",
    "    \n",
    "}"
   ]
  },
  {
   "cell_type": "markdown",
   "id": "00bc659f",
   "metadata": {},
   "source": [
    "<center><img title=\"a title\" alt=\"Alt text\" src=\"2a.JPG\"></center>"
   ]
  },
  {
   "cell_type": "markdown",
   "id": "6d526bc1",
   "metadata": {},
   "source": [
    "b)Does 'Supercalifragilisticexpialidocious' contain 'ice' as a substring?"
   ]
  },
  {
   "cell_type": "code",
   "execution_count": null,
   "id": "c67ded0d",
   "metadata": {},
   "outputs": [],
   "source": [
    "using System;\n",
    "\n",
    "namespace Test\n",
    "{\n",
    "    class Program\n",
    "    {\n",
    "        public static void Main()\n",
    "        {\n",
    "\n",
    "            string s = \"Supercalifragilisticexpialidocious\";\n",
    "            bool result = s.Contains(\"ice\");\n",
    "            if (result == true)\n",
    "            {\n",
    "                Console.WriteLine(\" 'Supercalifragilisticexpialidocious' contain 'ice' as a substring\");\n",
    "            }\n",
    "\n",
    "            Console.ReadLine();\n",
    "           \n",
    "        }\n",
    "\n",
    "       \n",
    "    }"
   ]
  },
  {
   "cell_type": "markdown",
   "id": "c1324ce8",
   "metadata": {},
   "source": [
    "<center><img title=\"a title\" alt=\"Alt text\" src=\"2b.jpg\"></center>"
   ]
  },
  {
   "cell_type": "markdown",
   "id": "45c939e3",
   "metadata": {},
   "source": [
    "c)Which of the following words is the longest:\n",
    "\n",
    "Supercalifragilisticexpialidocious, Honorificabilitudinitatibus, or Bababadalgharaghtakamminarronnkonn?"
   ]
  },
  {
   "cell_type": "code",
   "execution_count": null,
   "id": "923e402e",
   "metadata": {},
   "outputs": [],
   "source": [
    "using System;\n",
    "\n",
    "namespace Test\n",
    "{\n",
    "    class Program\n",
    "    {\n",
    "        public static void Main()\n",
    "        {\n",
    "            string s1 = \"Supercalifragilisticexpialidocious\";\n",
    "            string s2 = \"Honorificabilitudinitatibus\";\n",
    "            string s3 = \"Bababadalgharaghtakamminarronnkonn\";\n",
    "            if (s1.Length > s2.Length)\n",
    "            {\n",
    "                if (s1.Length > s3.Length)\n",
    "                {\n",
    "                    Console.WriteLine(\"{0} is the longest word.\", s1);\n",
    "                }\n",
    "                else\n",
    "                {\n",
    "                    Console.WriteLine(\"{0} is the longest word.\", s3);\n",
    "                }\n",
    "            }\n",
    "            else\n",
    "            {\n",
    "                if (s2.Length > s3.Length)\n",
    "                {\n",
    "                    Console.WriteLine(\"{0} is the longest word.\", s2);\n",
    "                }\n",
    "                else\n",
    "                {\n",
    "                    Console.WriteLine(\"{0} is the longest word.\", s3);\n",
    "                }\n",
    "            }\n",
    "\n",
    "            Console.ReadLine();\n",
    "\n",
    "        }\n",
    "\n",
    "\n",
    "\n",
    "    }\n",
    "}\n"
   ]
  },
  {
   "cell_type": "markdown",
   "id": "e660d9fc",
   "metadata": {},
   "source": [
    "<center><img title=\"a title\" alt=\"Alt text\" src=\"2c.jpg\"></center>"
   ]
  },
  {
   "cell_type": "markdown",
   "id": "a6d6f234",
   "metadata": {},
   "source": [
    "d)Which composer comes first in the dictionary: 'Berlioz', 'Borodin', 'Brian', 'Bartok', 'Bellini', 'Buxtehude', 'Bernstein'. Which one comes last?"
   ]
  },
  {
   "cell_type": "code",
   "execution_count": null,
   "id": "d93f0880",
   "metadata": {},
   "outputs": [],
   "source": [
    "using System;\n",
    "using System.Collections.Generic;\n",
    "\n",
    "namespace Test\n",
    "{\n",
    "    class Program\n",
    "    {\n",
    "        public static void Main()\n",
    "        {\n",
    "            SortedDictionary<string, string> names = new SortedDictionary<string, string>();\n",
    "            names.Add(\"3\", \"Berlioz\");\n",
    "            names.Add(\"5\", \"Borodin\");\n",
    "            names.Add(\"6\", \"Brian\");\n",
    "            names.Add(\"1\", \"Bartok\");\n",
    "            names.Add(\"2\", \"Bellini\");\n",
    "            names.Add(\"7\", \"Buxtehude\");\n",
    "            names.Add(\"4\", \"Bernstein\");\n",
    "            foreach(KeyValuePair<string, string> kv in names)\n",
    "            {\n",
    "                Console.WriteLine(kv.Value);\n",
    "            }\n",
    "\n",
    "            Console.ReadLine();\n",
    "\n",
    "        }\n",
    "\n",
    "\n",
    "\n",
    "    }\n",
    "}"
   ]
  },
  {
   "cell_type": "markdown",
   "id": "5566cd36",
   "metadata": {},
   "source": [
    "<center><img title=\"a title\" alt=\"Alt text\" src=\"2d.jpg\"></center>"
   ]
  },
  {
   "cell_type": "markdown",
   "id": "baaf9a54",
   "metadata": {},
   "source": [
    "Question 3 C#\n",
    "\n",
    "Implement function triangleArea(a,b,c) that takes as input the lengths of the 3 sides of a triangle and returns the area of the triangle. By Heron's formula, the area of a triangle with side lengths a, b, and c is s(s - a)(s -b)(s -c), where s = (a+b+c)/2."
   ]
  },
  {
   "cell_type": "code",
   "execution_count": null,
   "id": "72f69527",
   "metadata": {},
   "outputs": [],
   "source": [
    "using System;\n",
    "\n",
    "namespace Test\n",
    "{\n",
    "    class Program\n",
    "    {\n",
    "        public static void Main()\n",
    "        {\n",
    "\n",
    "            Console.WriteLine(\"Enter the side1:\");\n",
    "            double a = Convert.ToDouble(Console.ReadLine());\n",
    "            Console.WriteLine(\"Enter the side2:\");\n",
    "            double b = Convert.ToDouble(Console.ReadLine());\n",
    "            Console.WriteLine(\"Enter the side3:\");\n",
    "            double c = Convert.ToDouble(Console.ReadLine());\n",
    "            Program pr = new Program();\n",
    "            double Result = pr.triangleArea(a, b, c);\n",
    "            Console.WriteLine(\"The area of the triangle is:\" + Result);\n",
    "            Console.ReadLine();\n",
    "\n",
    "        }\n",
    "\n",
    "        public double triangleArea(double a, double b, double c)\n",
    "        {\n",
    "            double s = (a + b + c) / 2;\n",
    "            double Area = Math.Sqrt(s * (s - a) * (s - b) * (s - c));\n",
    "            return Area;\n",
    "\n",
    "        }\n",
    "\n",
    "\n",
    "    }\n",
    "}"
   ]
  },
  {
   "cell_type": "markdown",
   "id": "7c5bdc7a",
   "metadata": {},
   "source": [
    "<center><img title=\"a title\" alt=\"Alt text\" src=\"3.jpg\"></center>"
   ]
  },
  {
   "cell_type": "markdown",
   "id": "ee35e07b",
   "metadata": {},
   "source": [
    "Question 4 C#\n",
    "\n",
    "Write a program in C# Sharp to separate odd and even integers in separate arrays. Go to the editor."
   ]
  },
  {
   "cell_type": "code",
   "execution_count": null,
   "id": "15bb8281",
   "metadata": {},
   "outputs": [],
   "source": [
    "using System;\n",
    "\n",
    "namespace Test\n",
    "{\n",
    "    class Program\n",
    "    {\n",
    "        public static void Main()\n",
    "        {\n",
    "            int[] arr1 = new int[10];\n",
    "            int[] arr2 = new int[10];\n",
    "            int[] arr3 = new int[10];\n",
    "            int i, j = 0, k = 0, n;\n",
    "            Console.Write(\"Input the number of elements to be stored in the array :\");\n",
    "            n = Convert.ToInt32(Console.ReadLine());\n",
    "            Console.Write(\"Input {0} elements in the array :\", n);\n",
    "            Console.WriteLine(\"\\n\");\n",
    "            for (i = 0; i < n; i++)\n",
    "            {\n",
    "                Console.Write(\"element - {0} : \", i);\n",
    "                arr1[i] = Convert.ToInt32(Console.ReadLine());\n",
    "                Console.WriteLine(\"\\n\");\n",
    "            }\n",
    "            for (i = 0; i < n; i++)\n",
    "            {\n",
    "                if (arr1[i] % 2 == 0)\n",
    "                {\n",
    "                    arr2[j] = arr1[i];\n",
    "                    j++;\n",
    "                }\n",
    "                else\n",
    "                {\n",
    "                    arr3[k] = arr1[i];\n",
    "                    k++;\n",
    "                }\n",
    "            }\n",
    "            Console.Write(\"The Even elements are : \");\n",
    "            Console.Write(\"\\n\\n\");\n",
    "            for (i = 0; i < j; i++)\n",
    "            {\n",
    "                Console.Write(\"{0}\", arr2[i]);\n",
    "                Console.Write(\"\\n\\n\");\n",
    "            }\n",
    "\n",
    "\n",
    "            Console.Write(\"The Odd elements are :\");\n",
    "            Console.Write(\"\\n\\n\");\n",
    "            for (i = 0; i < k; i++)\n",
    "            {\n",
    "                Console.Write(\"{0}\", arr3[i]);\n",
    "                Console.Write(\"\\n\\n\");\n",
    "            }\n",
    "\n",
    "        }\n",
    "\n",
    "    }\n",
    "    \n",
    "\n",
    "\n",
    "    }\n"
   ]
  },
  {
   "cell_type": "markdown",
   "id": "f27eaf17",
   "metadata": {},
   "source": [
    "<center><img title=\"a title\" alt=\"Alt text\" src=\"4.jpg\"></center>"
   ]
  },
  {
   "cell_type": "code",
   "execution_count": null,
   "id": "779d261c",
   "metadata": {},
   "outputs": [],
   "source": [
    "Question 5 C#\n",
    "a. Write a function inside(x,y,x1,y1,x2,y2) that returns True or False depending on whether the point (x,y) lies in the rectangle with lower left \n",
    "corner (x1,y1) and upper right corner (x2,y2).\n",
    ">>> inside(1,1,0,0,2,3)\n",
    "True\n",
    ">>> inside(-1,-1,0,0,2,3)\n",
    "False\n",
    "b. Use function inside() from part a. to write an expression that tests whether the point (1,1) lies in both of the following rectangles: one with lower left \n",
    "corner (0.3, 0.5) and upper right corner (1.1, 0.7) and the other with lower left corner (0.5, 0.2) and upper right corner (1.1, 2)."
   ]
  },
  {
   "cell_type": "code",
   "execution_count": null,
   "id": "4dc3b728",
   "metadata": {},
   "outputs": [],
   "source": [
    "using System;\n",
    "\n",
    "namespace Test\n",
    "{\n",
    "\n",
    "class Program\n",
    "{\n",
    "    static bool inside(int x1, int y1, int x2, int y2, int x, int y)\n",
    "    {\n",
    "        if (x > x1 && x < x2 && y > y1 && y < y2)\n",
    "            return true;\n",
    "        else\n",
    "            return false;\n",
    "    }\n",
    "\n",
    "    static void Main(string[] args)\n",
    "    {\n",
    "        // points of the triangle \n",
    "        Console.WriteLine(\"Enter the coordinates of the rectangle: \");\n",
    "        Console.WriteLine(\"x1: \");\n",
    "        int x1 = Convert.ToInt32(Console.ReadLine());\n",
    "        Console.WriteLine(\"y1: \");\n",
    "        int y1 = Convert.ToInt32(Console.ReadLine());\n",
    "        Console.WriteLine(\"x2: \");\n",
    "        int x2 = Convert.ToInt32(Console.ReadLine());\n",
    "        Console.WriteLine(\"y2: \");\n",
    "        int y2 = Convert.ToInt32(Console.ReadLine());\n",
    "        Console.WriteLine(\"Enter the given point: \");\n",
    "        Console.WriteLine(\"x coordinate of the point: \");\n",
    "        int x = Convert.ToInt32(Console.ReadLine());\n",
    "        Console.WriteLine(\"y coordinate of the point: \");\n",
    "        int y = Convert.ToInt32(Console.ReadLine());\n",
    "\n",
    "        if (inside(x1, y1, x2, y2, x, y))\n",
    "            Console.Write(\"Yes, the point lies within the rectangle\");\n",
    "        else\n",
    "            Console.Write(\"No, the point doesn't ie within the rectangle\");\n",
    "\n",
    "    }\n",
    "}\n",
    "}"
   ]
  },
  {
   "cell_type": "markdown",
   "id": "5d02ed2f",
   "metadata": {},
   "source": [
    "<center><img title=\"a title\" alt=\"Alt text\" src=\"5.jpg\"></center>"
   ]
  },
  {
   "cell_type": "markdown",
   "id": "ae7eb011",
   "metadata": {},
   "source": [
    "Question 6 Python\n",
    "\n",
    "You can turn a word into pig-Latin using the following two rules (simplified): • If the word starts with a consonant, move that letter to the end and append 'ay'. For example, 'happy' becomes 'appyhay' and 'pencil' becomes 'encilpay'. • If the word starts with a vowel, simply append 'way' to the end of the word. For example, 'enter' becomes 'enterway' and 'other' becomes 'otherway' . For our purposes, there are 5 vowels: a, e, i, o, u (so we count y as a consonant).Write a function pig() that takes a word (i.e., a string) as input and returns its pig\u0002Latin form. Your function should still work if the input word contains upper case characters. Your output should always be lower case however.\n",
    "\n",
    "pig('happy') 'appyhay' pig('Enter') 'enterway'"
   ]
  },
  {
   "cell_type": "code",
   "execution_count": 41,
   "id": "2e014aaf",
   "metadata": {},
   "outputs": [
    {
     "name": "stdout",
     "output_type": "stream",
     "text": [
      "Convert message to pig latin: denisa\n"
     ]
    },
    {
     "data": {
      "text/plain": [
       "['enisaday']"
      ]
     },
     "execution_count": 41,
     "metadata": {},
     "output_type": "execute_result"
    }
   ],
   "source": [
    "def pig(wordlist):\n",
    "    pigLatin=[]\n",
    "    char=[]\n",
    "    vowels = ['a', 'e', 'i', 'o', 'u']\n",
    "    for word in wordlist:\n",
    "        if word[0] in vowels:\n",
    "            pigLatin.append(word + 'way')\n",
    "        if word[0] not in vowels:\n",
    "            char=[char for char in word]\n",
    "            char_f=char[1:]\n",
    "            char_f.append(char[0]+'a'+'y')\n",
    "            word_l=\"\".join(char_f)\n",
    "            pigLatin.append(word_l)\n",
    "    return pigLatin\n",
    "Message = input(\"Convert message to pig latin: \")\n",
    "wordList = Message.lower().split(\" \")           \n",
    "PigLatin=pig(wordList)\n",
    "PigLatin\n"
   ]
  },
  {
   "cell_type": "markdown",
   "id": "0c6d36ab",
   "metadata": {},
   "source": [
    "Question 7 Python\n",
    "\n",
    "File bloodtype1.txt records blood-types of patients (A, B, AB, O or OO) at a clinic. Write a function bldcount() that reads the file with name name and reports (i.e., prints) how many patients there are in each bloodtype.\n",
    ">>> bldcount('bloodtype.txt')\n",
    "There are 10 patients of blood type A.\n",
    "There is one patient of blood type B.\n",
    "There are 10 patients of blood type AB.\n",
    "There are 12 patients of blood type O.\n",
    "There are no patients of blood type OO."
   ]
  },
  {
   "cell_type": "code",
   "execution_count": 45,
   "id": "210285d8",
   "metadata": {},
   "outputs": [
    {
     "name": "stdout",
     "output_type": "stream",
     "text": [
      "There are 15 patients of blood type A\n",
      "There are 1 patients of blood type B\n",
      "There are 13 patients of blood type AB\n",
      "There are 15 patients of blood type O\n",
      "There are 0 patients of blood type OO\n"
     ]
    }
   ],
   "source": [
    "def bldcount(string):\n",
    "    \n",
    "    \n",
    "    name=open(string,'r')\n",
    "    x = name.read()\n",
    "    y = x.split()\n",
    "    print('There are {} patients of blood type A'.format(y.count('A')))\n",
    "    print('There are {} patients of blood type B'.format(y.count('B')))\n",
    "    print('There are {} patients of blood type AB'.format(y.count('AB')))\n",
    "    print('There are {} patients of blood type O'.format(y.count('O')))\n",
    "    print('There are {} patients of blood type OO'.format(y.count('OO')))\n",
    "    \n",
    "          \n",
    "bldcount('bloodtype.txt')"
   ]
  },
  {
   "cell_type": "markdown",
   "id": "9d359f65",
   "metadata": {},
   "source": [
    "Question 8 Python\n",
    "\n",
    "Write a function curconv() that takes as input:\n",
    "1. a currency represented using a string (e.g., 'JPY' for the Japanese Yen or 'EUR' for the Euro)\n",
    "2. an amount and then converts and returns the amount in US dollars.\n",
    ">>> curconv('EUR', 100)\n",
    "122.96544\n",
    ">>> curconv('JPY', 100)\n",
    "1.241401\n",
    "The currency rates you will need are stored in file currencies.txt:\n"
   ]
  },
  {
   "cell_type": "code",
   "execution_count": 54,
   "id": "677e2764",
   "metadata": {},
   "outputs": [
    {
     "name": "stdout",
     "output_type": "stream",
     "text": [
      "122.96544\n",
      "1.241401\n"
     ]
    }
   ],
   "source": [
    "def curconv(R,val):\n",
    "    name=open('currencies.txt','r')\n",
    "    a = name.read()\n",
    "    b = []\n",
    "    i = a.splitlines()\n",
    "    k=0\n",
    "\n",
    "    while k < len(i):\n",
    "        b.append(i[k].split())\n",
    "        k+=1\n",
    "    k=0\n",
    "    while k < len(b):\n",
    "        if b[k][0]==R:\n",
    "            result=int(val)*float(b[k][1])\n",
    "            break\n",
    "        k+=1\n",
    "    return result\n",
    "\n",
    "print(curconv('EUR',100))\n",
    "print(curconv('JPY', 100))"
   ]
  },
  {
   "cell_type": "markdown",
   "id": "fb73bb6d",
   "metadata": {},
   "source": [
    "Question 9 Python\n",
    "\n",
    "Each of the following will cause an exception (an error). Identify what type of exception each will cause.\n",
    "\n",
    "Trying to add incompatible variables, as in adding 6 + ‘a’"
   ]
  },
  {
   "cell_type": "code",
   "execution_count": 56,
   "id": "4e041b81",
   "metadata": {},
   "outputs": [
    {
     "ename": "TypeError",
     "evalue": "unsupported operand type(s) for +: 'int' and 'str'",
     "output_type": "error",
     "traceback": [
      "\u001b[1;31m---------------------------------------------------------------------------\u001b[0m",
      "\u001b[1;31mTypeError\u001b[0m                                 Traceback (most recent call last)",
      "\u001b[1;32m<ipython-input-56-7815ec48973b>\u001b[0m in \u001b[0;36m<module>\u001b[1;34m\u001b[0m\n\u001b[1;32m----> 1\u001b[1;33m \u001b[1;36m6\u001b[0m\u001b[1;33m+\u001b[0m\u001b[1;34m'a'\u001b[0m\u001b[1;33m\u001b[0m\u001b[1;33m\u001b[0m\u001b[0m\n\u001b[0m",
      "\u001b[1;31mTypeError\u001b[0m: unsupported operand type(s) for +: 'int' and 'str'"
     ]
    }
   ],
   "source": [
    "6+'a'"
   ]
  },
  {
   "cell_type": "markdown",
   "id": "a1b63e18",
   "metadata": {},
   "source": [
    "Referring to the 12th item of a list that has only 10 items"
   ]
  },
  {
   "cell_type": "code",
   "execution_count": 57,
   "id": "17a5c66e",
   "metadata": {},
   "outputs": [
    {
     "ename": "IndexError",
     "evalue": "list index out of range",
     "output_type": "error",
     "traceback": [
      "\u001b[1;31m---------------------------------------------------------------------------\u001b[0m",
      "\u001b[1;31mIndexError\u001b[0m                                Traceback (most recent call last)",
      "\u001b[1;32m<ipython-input-57-1cd82ab04281>\u001b[0m in \u001b[0;36m<module>\u001b[1;34m\u001b[0m\n\u001b[0;32m      1\u001b[0m \u001b[0ma\u001b[0m\u001b[1;33m=\u001b[0m\u001b[1;33m[\u001b[0m\u001b[1;34m\"dog\"\u001b[0m\u001b[1;33m,\u001b[0m \u001b[1;34m\"cat\"\u001b[0m\u001b[1;33m,\u001b[0m\u001b[1;34m\"animal\"\u001b[0m\u001b[1;33m,\u001b[0m \u001b[1;34m\"bird\"\u001b[0m\u001b[1;33m,\u001b[0m \u001b[1;34m\"fish\"\u001b[0m\u001b[1;33m,\u001b[0m \u001b[1;34m\"flower\"\u001b[0m\u001b[1;33m,\u001b[0m \u001b[1;34m\"snacks\"\u001b[0m\u001b[1;33m,\u001b[0m\u001b[1;34m\"food\"\u001b[0m\u001b[1;33m,\u001b[0m \u001b[1;34m\"dance\"\u001b[0m\u001b[1;33m,\u001b[0m \u001b[1;34m\"bottle\"\u001b[0m\u001b[1;33m,\u001b[0m \u001b[1;34m\"clock\"\u001b[0m\u001b[1;33m]\u001b[0m\u001b[1;33m\u001b[0m\u001b[1;33m\u001b[0m\u001b[0m\n\u001b[1;32m----> 2\u001b[1;33m \u001b[0mprint\u001b[0m\u001b[1;33m(\u001b[0m\u001b[0ma\u001b[0m\u001b[1;33m[\u001b[0m\u001b[1;36m12\u001b[0m\u001b[1;33m]\u001b[0m\u001b[1;33m)\u001b[0m\u001b[1;33m\u001b[0m\u001b[1;33m\u001b[0m\u001b[0m\n\u001b[0m",
      "\u001b[1;31mIndexError\u001b[0m: list index out of range"
     ]
    }
   ],
   "source": [
    "a=[\"dog\", \"cat\",\"animal\", \"bird\", \"fish\", \"flower\", \"snacks\",\"food\", \"dance\", \"bottle\", \"clock\"]\n",
    "print(a[12])"
   ]
  },
  {
   "cell_type": "markdown",
   "id": "2c1b82b2",
   "metadata": {},
   "source": [
    "Using a value that is out of range for a function’s input, such as calling math.sqrt(-1.0)"
   ]
  },
  {
   "cell_type": "code",
   "execution_count": 29,
   "id": "01494264",
   "metadata": {},
   "outputs": [
    {
     "ename": "ValueError",
     "evalue": "math domain error",
     "output_type": "error",
     "traceback": [
      "\u001b[1;31m---------------------------------------------------------------------------\u001b[0m",
      "\u001b[1;31mValueError\u001b[0m                                Traceback (most recent call last)",
      "\u001b[1;32m<ipython-input-29-d39e523296ce>\u001b[0m in \u001b[0;36m<module>\u001b[1;34m\u001b[0m\n\u001b[0;32m      1\u001b[0m \u001b[1;32mimport\u001b[0m \u001b[0mmath\u001b[0m\u001b[1;33m\u001b[0m\u001b[1;33m\u001b[0m\u001b[0m\n\u001b[1;32m----> 2\u001b[1;33m \u001b[0mmath\u001b[0m\u001b[1;33m.\u001b[0m\u001b[0msqrt\u001b[0m\u001b[1;33m(\u001b[0m\u001b[1;33m-\u001b[0m\u001b[1;36m1.0\u001b[0m\u001b[1;33m)\u001b[0m\u001b[1;33m\u001b[0m\u001b[1;33m\u001b[0m\u001b[0m\n\u001b[0m",
      "\u001b[1;31mValueError\u001b[0m: math domain error"
     ]
    }
   ],
   "source": [
    "import math\n",
    "math.sqrt(-1.0)"
   ]
  },
  {
   "cell_type": "markdown",
   "id": "e0435992",
   "metadata": {},
   "source": [
    "Using an undeclared variable, such as print(x) when x has not been defined "
   ]
  },
  {
   "cell_type": "code",
   "execution_count": 58,
   "id": "e1b18a45",
   "metadata": {},
   "outputs": [
    {
     "ename": "NameError",
     "evalue": "name 'x' is not defined",
     "output_type": "error",
     "traceback": [
      "\u001b[1;31m---------------------------------------------------------------------------\u001b[0m",
      "\u001b[1;31mNameError\u001b[0m                                 Traceback (most recent call last)",
      "\u001b[1;32m<ipython-input-58-fc17d851ef81>\u001b[0m in \u001b[0;36m<module>\u001b[1;34m\u001b[0m\n\u001b[1;32m----> 1\u001b[1;33m \u001b[0mprint\u001b[0m\u001b[1;33m(\u001b[0m\u001b[0mx\u001b[0m\u001b[1;33m)\u001b[0m\u001b[1;33m\u001b[0m\u001b[1;33m\u001b[0m\u001b[0m\n\u001b[0m",
      "\u001b[1;31mNameError\u001b[0m: name 'x' is not defined"
     ]
    }
   ],
   "source": [
    "print(x)"
   ]
  },
  {
   "cell_type": "markdown",
   "id": "22304373",
   "metadata": {},
   "source": [
    "Trying to open a file that does not exist, such as mistyping the file name or looking in the wrong directory. "
   ]
  },
  {
   "cell_type": "code",
   "execution_count": 60,
   "id": "792286fa",
   "metadata": {},
   "outputs": [
    {
     "ename": "FileNotFoundError",
     "evalue": "[Errno 2] No such file or directory: 'ABCD.txt'",
     "output_type": "error",
     "traceback": [
      "\u001b[1;31m---------------------------------------------------------------------------\u001b[0m",
      "\u001b[1;31mFileNotFoundError\u001b[0m                         Traceback (most recent call last)",
      "\u001b[1;32m<ipython-input-60-43e343e150d1>\u001b[0m in \u001b[0;36m<module>\u001b[1;34m\u001b[0m\n\u001b[1;32m----> 1\u001b[1;33m \u001b[0mfile\u001b[0m\u001b[1;33m=\u001b[0m\u001b[0mopen\u001b[0m\u001b[1;33m(\u001b[0m\u001b[1;34m'ABCD.txt'\u001b[0m\u001b[1;33m,\u001b[0m\u001b[1;34m'r'\u001b[0m\u001b[1;33m)\u001b[0m\u001b[1;33m\u001b[0m\u001b[1;33m\u001b[0m\u001b[0m\n\u001b[0m",
      "\u001b[1;31mFileNotFoundError\u001b[0m: [Errno 2] No such file or directory: 'ABCD.txt'"
     ]
    }
   ],
   "source": [
    "file=open('ABCD.txt','r')"
   ]
  },
  {
   "cell_type": "markdown",
   "id": "9b402dce",
   "metadata": {},
   "source": [
    "Question 10 Python\n",
    "\n",
    "Encryption is the process of hiding the meaning of a text by substituting letters in the message with other letters, according to some system. If the process is successful, no one but the intended recipient can understand the encrypted message.\n",
    "Cryptanalysisrefers to attempts to undo the encryption, even if some details of the encryption are unknown (for example, if an encrypted message has been intercepted). The first step of cryptanalysis is often to build up a table of letter frequencies in the encrypted text. Assume that the string letters is already defined as 'abcdefghijklmnopqrstuvwxyz'. Write a function called frequencies() that takes a string as its only parameter, and returns a list of integers, showing the number of times each\n",
    "character appears in the text. Your function may ignore any characters that are not in letters."
   ]
  },
  {
   "cell_type": "code",
   "execution_count": 68,
   "id": "f6d1bd18",
   "metadata": {},
   "outputs": [
    {
     "name": "stdout",
     "output_type": "stream",
     "text": [
      "[1, 1, 1, 3, 5, 1, 1, 2, 1, 0, 1, 0, 1, 2, 4, 0, 1, 2, 0, 2, 1, 0, 1, 1, 0, 0]\n",
      "[1, 0, 0, 0, 1, 0, 0, 0, 0, 0, 0, 1, 0, 0, 0, 2, 0, 0, 0, 0, 0, 0, 0, 0, 0, 0]\n"
     ]
    }
   ],
   "source": [
    "def frequencies(strings):\n",
    "    word = []\n",
    "    alpha = 'abcdefghijklmnopqrstuvwxyz'\n",
    "    for i in range(len(alpha)):\n",
    "        count = 0\n",
    "        frequency=0\n",
    "        while frequency < len(strings):\n",
    "            if alpha[i] == strings[frequency]:\n",
    "                count += 1\n",
    "            frequency+=1\n",
    "        word.append(count)\n",
    "    print(word)\n",
    "    \n",
    "frequencies('The quick red fox got bored and went home.')\n",
    "frequencies('apple')"
   ]
  }
 ],
 "metadata": {
  "kernelspec": {
   "display_name": "Python 3",
   "language": "python",
   "name": "python3"
  }
 },
 "nbformat": 4,
 "nbformat_minor": 5
}
